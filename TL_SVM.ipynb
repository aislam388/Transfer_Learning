{
  "nbformat": 4,
  "nbformat_minor": 0,
  "metadata": {
    "colab": {
      "provenance": [],
      "mount_file_id": "15uzQir-h2PrgpRgBiB99Oc_qlbZDGxEY",
      "authorship_tag": "ABX9TyN9vKMKZMXyRmFb0e7SFLTP",
      "include_colab_link": true
    },
    "kernelspec": {
      "name": "python3",
      "display_name": "Python 3"
    }
  },
  "cells": [
    {
      "cell_type": "markdown",
      "metadata": {
        "id": "view-in-github",
        "colab_type": "text"
      },
      "source": [
        "<a href=\"https://colab.research.google.com/github/aislam388/Transfer_Learning/blob/main/TL_SVM.ipynb\" target=\"_parent\"><img src=\"https://colab.research.google.com/assets/colab-badge.svg\" alt=\"Open In Colab\"/></a>"
      ]
    },
    {
      "cell_type": "code",
      "metadata": {
        "id": "4gPEDpLPrDlt",
        "colab": {
          "base_uri": "https://localhost:8080/",
          "height": 74
        },
        "outputId": "38a49881-7368-4251-dc52-68f32f8bce6c"
      },
      "source": [
        "from keras.applications.resnet50 import ResNet50\n",
        "# resnet_weights = '../input/resnet50/resnet50_weigts_tf_dim_ordering_tf_kernels.h5'\n",
        "resnet_model = ResNet50(weights='imagenet', include_top=False)\n",
        "# _get_predictions(resnet_model)"
      ],
      "execution_count": null,
      "outputs": [
        {
          "output_type": "stream",
          "text": [
            "Downloading data from https://storage.googleapis.com/tensorflow/keras-applications/resnet/resnet50_weights_tf_dim_ordering_tf_kernels_notop.h5\n",
            "94773248/94765736 [==============================] - 3s 0us/step\n"
          ],
          "name": "stdout"
        }
      ]
    },
    {
      "cell_type": "code",
      "metadata": {
        "id": "w-3aevxtr8p7"
      },
      "source": [
        "from keras.layers import Input, Lambda, Dense, Flatten\n",
        "from keras.models import Model\n",
        "from keras.preprocessing import image\n",
        "from keras.preprocessing.image import ImageDataGenerator\n",
        "from keras.applications.resnet50 import preprocess_input\n",
        "from keras.models import Sequential\n",
        "import numpy as np\n",
        "from glob import glob\n",
        "import matplotlib.pyplot as plt\n",
        "import os\n",
        "from PIL import Image\n"
      ],
      "execution_count": null,
      "outputs": []
    },
    {
      "cell_type": "code",
      "metadata": {
        "id": "_n7uiPTlsb9a"
      },
      "source": [
        "def _get_features(img_path):\n",
        "  img = image.load_img(img_path, target_size=(224,224))\n",
        "  img_data = image.img_to_array(img)\n",
        "  img_data = np.expand_dims(img_data, axis=0)\n",
        "  img_data = preprocess_input(img_data)\n",
        "  resnet_features = resnet_model.predict(img_data)\n",
        "  return resnet_features\n"
      ],
      "execution_count": null,
      "outputs": []
    },
    {
      "cell_type": "code",
      "metadata": {
        "id": "frlOEKJHsoR9",
        "colab": {
          "base_uri": "https://localhost:8080/",
          "height": 74
        },
        "outputId": "b28d1265-1b01-491a-cf34-8d7aa9217625"
      },
      "source": [
        "basepath = \"/content/drive/My Drive/LIDC-IDRI-0001/01-01-2000-30178/3000566-03192/\"\n",
        "# basepath = \"content/drive/MyDrive/LIDC-IDRI-0001/01-01-2000-30178/3000566-03192\"\n",
        "class1 = os.listdir(basepath + \"Positivepng/\")\n",
        "class2 = os.listdir(basepath + \"Negativepng/\")\n",
        "print(class1)\n",
        "print(class2)"
      ],
      "execution_count": null,
      "outputs": [
        {
          "output_type": "stream",
          "text": [
            "['Unit6File_1.jpg', 'Unit6File_2.jpg', 'Unit6File_3.jpg', 'Unit6File_4.jpg', 'Unit6File_5.jpg', 'Unit6File_6.jpg', 'Unit6File_7.jpg', 'Unit6File_8.jpg', 'Unit6File_9.jpg', 'Unit6File_10.jpg', 'Unit6File_11.jpg', 'Unit6File_12.jpg', 'Unit6File_13.jpg', 'Unit6File_14.jpg', 'Unit6File_15.jpg', 'Unit6File_16.jpg', 'Unit6File_17.jpg', 'Unit6File_18.jpg', 'Unit6File_19.jpg', 'Unit6File_20.jpg', 'Unit6File_21.jpg', 'Unit6File_22.jpg', 'Unit7File_0.jpg', 'Unit7File_1.jpg', 'Unit7File_2.jpg', 'Unit7File_3.jpg', 'Unit7File_4.jpg', 'Unit7File_5.jpg', 'Unit7File_6.jpg', 'Unit7File_7.jpg', 'Unit7File_8.jpg', 'Unit7File_9.jpg', 'Unit7File_10.jpg', 'Unit7File_11.jpg', 'Unit7File_12.jpg', 'Unit7File_13.jpg', 'Unit7File_14.jpg', 'Unit7File_15.jpg', 'Unit7File_16.jpg', 'Unit7File_17.jpg', 'Unit7File_18.jpg', 'Unit7File_19.jpg', 'Unit7File_20.jpg', 'Unit7File_21.jpg', 'Unit7File_22.jpg', 'Unit7File_23.jpg', 'Unit7File_24.jpg', 'Unit7File_25.jpg', 'Unit7File_26.jpg', 'Unit7File_27.jpg', 'Unit7File_28.jpg', 'Unit7File_29.jpg', 'Unit8File_0.jpg', 'Unit8File_1.jpg', 'Unit8File_2.jpg', 'Unit8File_3.jpg', 'Unit8File_4.jpg', 'Unit8File_5.jpg', 'Unit8File_6.jpg', 'Unit8File_7.jpg', 'Unit8File_8.jpg', 'Unit8File_9.jpg', 'Unit8File_10.jpg', 'Unit8File_11.jpg', 'Unit8File_12.jpg', 'Unit8File_13.jpg', 'Unit9File_0.jpg', 'Unit9File_1.jpg', 'Unit9File_2.jpg', 'Unit9File_3.jpg', 'Unit9File_4.jpg', 'Unit9File_5.jpg', 'Unit9File_6.jpg', 'Unit9File_7.jpg', 'Unit9File_8.jpg', 'Unit9File_9.jpg', 'Unit9File_10.jpg', 'Unit9File_11.jpg', 'Unit9File_12.jpg', 'Unit9File_13.jpg', 'Unit9File_14.jpg', 'Unit10File_0.jpg', 'Unit10File_1.jpg', 'Unit10File_2.jpg', 'Unit10File_3.jpg', 'Unit10File_4.jpg', 'Unit10File_5.jpg', 'Unit10File_6.jpg', 'Unit10File_7.jpg', 'Unit10File_8.jpg', 'Unit10File_9.jpg', 'Unit10File_10.jpg', 'Unit10File_11.jpg', 'Unit10File_12.jpg', 'Unit10File_13.jpg', 'Unit10File_14.jpg', 'Unit10File_15.jpg', 'Unit10File_16.jpg', 'Unit10File_17.jpg', 'Unit10File_18.jpg', 'Unit10File_19.jpg', 'Unit10File_20.jpg', 'Unit10File_21.jpg', 'Unit11File_0.jpg', 'Unit11File_1.jpg', 'Unit11File_2.jpg', 'Unit11File_3.jpg', 'Unit11File_4.jpg', 'Unit11File_5.jpg', 'Unit11File_6.jpg', 'Unit11File_7.jpg', 'Unit11File_8.jpg', 'Unit11File_9.jpg', 'Unit11File_10.jpg', 'Unit11File_11.jpg', 'Unit11File_12.jpg', 'Unit11File_13.jpg', 'Unit11File_14.jpg', 'Unit11File_15.jpg', 'Unit11File_16.jpg', 'Unit11File_17.jpg', 'Unit11File_18.jpg', 'Unit11File_19.jpg', 'Unit11File_20.jpg', 'Unit11File_21.jpg', 'Unit11File_22.jpg', 'Unit11File_23.jpg', 'Unit11File_24.jpg', 'Unit11File_25.jpg', 'Unit11File_26.jpg', 'Unit11File_27.jpg', 'Unit11File_28.jpg', 'Unit11File_29.jpg', 'Unit11File_30.jpg', 'Unit11File_31.jpg', 'Unit11File_32.jpg', 'Unit11File_33.jpg', 'Unit11File_34.jpg', 'Unit11File_35.jpg', 'Unit11File_36.jpg', 'Unit11File_37.jpg', 'Unit11File_38.jpg', 'Unit12File_0.jpg', 'Unit12File_1.jpg', 'Unit12File_2.jpg', 'Unit12File_3.jpg', 'Unit12File_4.jpg', 'Unit12File_5.jpg', 'Unit12File_6.jpg', 'Unit12File_7.jpg', 'Unit12File_8.jpg', 'Unit12File_9.jpg', 'Unit12File_10.jpg', 'Unit12File_11.jpg', 'Unit12File_12.jpg', 'Unit12File_13.jpg', 'Unit12File_14.jpg', 'Unit12File_15.jpg', 'Unit12File_16.jpg', 'Unit12File_17.jpg', 'Unit12File_18.jpg', 'Unit12File_19.jpg', 'Unit12File_20.jpg', 'Unit12File_21.jpg', 'Unit12File_22.jpg', 'Unit12File_23.jpg', 'Unit12File_24.jpg', 'Unit12File_25.jpg', 'Unit12File_26.jpg', 'Unit12File_27.jpg', 'Unit12File_28.jpg', 'Unit12File_29.jpg', 'Unit12File_30.jpg', 'Unit12File_31.jpg', 'Unit12File_32.jpg', 'Unit12File_33.jpg', 'Unit12File_34.jpg', 'Unit12File_35.jpg', 'Unit12File_36.jpg', 'Unit12File_37.jpg', 'Unit13File_0.jpg', 'Unit13File_1.jpg', 'Unit13File_2.jpg', 'Unit13File_3.jpg', 'Unit13File_4.jpg', 'Unit13File_5.jpg', 'Unit13File_6.jpg', 'Unit13File_7.jpg', 'Unit13File_8.jpg', 'Unit13File_9.jpg', 'Unit13File_10.jpg', 'Unit13File_11.jpg', 'Unit13File_12.jpg', 'Unit13File_13.jpg', 'Unit13File_14.jpg', 'Unit13File_15.jpg', 'Unit13File_16.jpg', 'Unit13File_17.jpg', 'Unit13File_18.jpg', 'Unit13File_19.jpg', 'Unit13File_20.jpg', 'Unit13File_21.jpg', 'Unit13File_22.jpg', 'Unit13File_23.jpg', 'Unit13File_24.jpg', 'Unit13File_25.jpg', 'Unit13File_26.jpg', 'Unit13File_27.jpg', 'Unit13File_28.jpg', 'Unit13File_29.jpg', 'Unit13File_30.jpg', 'Unit13File_31.jpg', 'Unit13File_32.jpg', 'Unit13File_33.jpg', 'Unit13File_34.jpg', 'Unit13File_35.jpg', 'Unit13File_36.jpg', 'Unit13File_37.jpg', 'Unit13File_38.jpg', 'Unit13File_39.jpg', 'Unit13File_40.jpg', 'Unit13File_41.jpg', 'Unit13File_42.jpg', 'Unit13File_43.jpg', 'Unit13File_44.jpg', 'Unit14File_0.jpg', 'Unit14File_1.jpg', 'Unit14File_2.jpg', 'Unit14File_3.jpg', 'Unit14File_4.jpg', 'Unit14File_5.jpg', 'Unit14File_6.jpg', 'Unit14File_7.jpg', 'Unit14File_8.jpg', 'Unit15File_0.jpg', 'Unit15File_1.jpg', 'Unit15File_2.jpg', 'Unit15File_3.jpg', 'Unit15File_4.jpg', 'Unit15File_5.jpg', 'Unit15File_6.jpg', 'Unit15File_7.jpg', 'Unit15File_8.jpg', 'Unit15File_9.jpg', 'Unit15File_10.jpg', 'Unit15File_11.jpg', 'Unit15File_12.jpg', 'Unit15File_13.jpg', 'Unit15File_14.jpg', 'Unit15File_15.jpg', 'Unit15File_16.jpg', 'Unit15File_17.jpg', 'Unit15File_18.jpg', 'Unit15File_19.jpg', 'Unit16File_0.jpg', 'Unit16File_1.jpg', 'Unit16File_2.jpg', 'Unit16File_3.jpg', 'Unit16File_4.jpg', 'Unit16File_5.jpg', 'Unit16File_6.jpg', 'Unit16File_7.jpg', 'Unit16File_8.jpg', 'Unit16File_9.jpg', 'Unit16File_10.jpg', 'Unit16File_11.jpg', 'Unit16File_12.jpg', 'Unit16File_13.jpg', 'Unit16File_14.jpg', 'Unit16File_15.jpg', 'Unit16File_16.jpg', 'Unit16File_17.jpg', 'Unit16File_18.jpg', 'Unit16File_19.jpg', 'Unit16File_20.jpg', 'Unit16File_21.jpg', 'Unit16File_22.jpg', 'Unit16File_23.jpg', 'Unit16File_24.jpg', 'Unit16File_25.jpg', 'Unit16File_26.jpg', 'Unit16File_27.jpg', 'Unit16File_28.jpg', 'Unit16File_29.jpg', 'Unit16File_30.jpg', 'Unit16File_31.jpg', 'Unit16File_32.jpg', 'Unit17File_0.jpg', 'Unit17File_1.jpg', 'Unit17File_2.jpg', 'Unit17File_3.jpg', 'Unit17File_4.jpg', 'Unit17File_5.jpg', 'Unit17File_6.jpg', 'Unit17File_7.jpg', 'Unit17File_8.jpg', 'Unit17File_9.jpg', 'Unit17File_10.jpg', 'Unit18File_0.jpg', 'Unit18File_1.jpg', 'Unit18File_2.jpg', 'Unit18File_3.jpg', 'Unit18File_4.jpg', 'Unit18File_5.jpg', 'Unit18File_6.jpg', 'Unit18File_7.jpg', 'Unit18File_8.jpg', 'Unit18File_9.jpg', 'Unit18File_10.jpg', 'Unit18File_11.jpg', 'Unit18File_12.jpg', 'Unit18File_13.jpg', 'Unit18File_14.jpg', 'Unit18File_15.jpg', 'Unit18File_16.jpg', 'Unit18File_17.jpg', 'Unit18File_18.jpg', 'Unit18File_19.jpg', 'Unit19File_0.jpg', 'Unit19File_1.jpg', 'Unit19File_2.jpg', 'Unit19File_3.jpg', 'Unit19File_4.jpg', 'Unit19File_5.jpg', 'Unit19File_6.jpg', 'Unit19File_7.jpg', 'Unit19File_8.jpg', 'Unit19File_9.jpg', 'Unit19File_10.jpg', 'Unit19File_11.jpg', 'Unit19File_12.jpg', 'Unit19File_13.jpg', 'Unit19File_14.jpg', 'Unit19File_15.jpg', 'Unit19File_16.jpg', 'Unit19File_17.jpg', 'Unit19File_18.jpg', 'Unit19File_19.jpg', 'Unit19File_20.jpg', 'Unit19File_21.jpg', 'Unit19File_22.jpg', 'Unit19File_23.jpg', 'Unit19File_24.jpg', 'Unit19File_25.jpg', 'Unit19File_26.jpg', 'Unit19File_27.jpg', 'Unit19File_28.jpg', 'Unit19File_29.jpg', 'Unit20File_0.jpg', 'Unit20File_1.jpg', 'Unit20File_2.jpg', 'Unit20File_3.jpg', 'Unit20File_4.jpg', 'Unit20File_5.jpg', 'Unit20File_6.jpg', 'Unit20File_7.jpg', 'Unit20File_8.jpg', 'Unit20File_9.jpg', 'Unit20File_10.jpg', 'Unit20File_11.jpg', 'Unit20File_12.jpg', 'Unit20File_13.jpg', 'Unit20File_14.jpg', 'Unit20File_15.jpg', 'Unit20File_16.jpg', 'Unit20File_17.jpg', 'Unit20File_18.jpg', 'Unit20File_19.jpg', 'Unit20File_20.jpg', 'Unit20File_21.jpg', 'Unit20File_22.jpg', 'Unit20File_23.jpg', 'Unit20File_24.jpg', 'Unit20File_25.jpg', 'Unit20File_26.jpg', 'Unit20File_27.jpg', 'Unit20File_28.jpg', 'Unit20File_29.jpg', 'Unit21File_0.jpg', 'Unit21File_1.jpg', 'Unit21File_2.jpg', 'Unit21File_3.jpg', 'Unit21File_4.jpg', 'Unit21File_5.jpg', 'Unit21File_6.jpg', 'Unit21File_7.jpg', 'Unit21File_8.jpg', 'Unit21File_9.jpg', 'Unit21File_10.jpg', 'Unit21File_11.jpg', 'Unit21File_12.jpg', 'Unit21File_13.jpg', 'Unit21File_14.jpg', 'Unit21File_15.jpg', 'Unit21File_16.jpg', 'Unit21File_17.jpg', 'Unit21File_18.jpg', 'Unit21File_19.jpg', 'Unit21File_20.jpg', 'Unit21File_21.jpg', 'Unit21File_22.jpg', 'Unit22File_0.jpg', 'Unit22File_1.jpg', 'Unit22File_2.jpg', 'Unit22File_3.jpg', 'Unit22File_4.jpg', 'Unit22File_5.jpg', 'Unit22File_6.jpg', 'Unit22File_7.jpg', 'Unit22File_8.jpg', 'Unit22File_9.jpg', 'Unit22File_10.jpg', 'Unit22File_11.jpg', 'Unit22File_12.jpg', 'Unit22File_13.jpg', 'Unit22File_14.jpg', 'Unit22File_15.jpg', 'Unit22File_16.jpg', 'Unit22File_17.jpg', 'Unit22File_18.jpg', 'Unit22File_19.jpg', 'Unit22File_20.jpg', 'Unit23File_0.jpg', 'Unit23File_1.jpg', 'Unit23File_2.jpg', 'Unit23File_3.jpg', 'Unit23File_4.jpg', 'Unit23File_5.jpg', 'Unit23File_6.jpg', 'Unit23File_7.jpg', 'Unit23File_8.jpg', 'Unit23File_9.jpg', 'Unit23File_10.jpg', 'Unit23File_11.jpg', 'Unit24File_0.jpg', 'Unit24File_1.jpg', 'Unit24File_2.jpg', 'Unit24File_3.jpg', 'Unit24File_4.jpg', 'Unit24File_5.jpg', 'Unit24File_6.jpg', 'Unit24File_7.jpg', 'Unit24File_8.jpg', 'Unit24File_9.jpg', 'Unit24File_10.jpg', 'Unit24File_11.jpg', 'Unit24File_12.jpg', 'Unit24File_13.jpg', 'Unit24File_14.jpg', 'Unit25File_0.jpg', 'Unit25File_1.jpg', 'Unit25File_2.jpg', 'Unit25File_3.jpg', 'Unit25File_4.jpg', 'Unit25File_5.jpg', 'Unit25File_6.jpg', 'Unit25File_7.jpg', 'Unit25File_8.jpg', 'Unit25File_9.jpg', 'Unit25File_10.jpg', 'File_1.jpg', 'File_2.jpg', 'File_3.jpg', 'File_4.jpg', 'File_5.jpg', 'File_6.jpg', 'File_7.jpg', 'File_8.jpg', 'File_9.jpg', 'File_10.jpg', 'File_11.jpg', 'File_12.jpg', 'File_13.jpg', 'File_14.jpg', 'File_15.jpg', 'File_0.jpg', 'Unit3File_0.jpg', 'Unit3File_1.jpg', 'Unit3File_2.jpg', 'Unit3File_3.jpg', 'Unit3File_4.jpg', 'Unit3File_5.jpg', 'Unit3File_6.jpg', 'Unit3File_7.jpg', 'Unit3File_8.jpg', 'Unit3File_9.jpg', 'Unit3File_10.jpg', 'Unit3File_11.jpg', 'Unit3File_12.jpg', 'Unit3File_13.jpg', 'Unit3File_14.jpg', 'Unit3File_15.jpg', 'Unit3File_16.jpg', 'Unit3File_17.jpg', 'Unit3File_18.jpg', 'Unit3File_19.jpg', 'Unit3File_20.jpg', 'Unit3File_21.jpg', 'Unit3File_22.jpg', 'Unit3File_23.jpg', 'Unit3File_24.jpg', 'Unit3File_25.jpg', 'Unit3File_26.jpg', 'Unit3File_27.jpg', 'Unit3File_28.jpg', 'Unit3File_29.jpg', 'Unit3File_30.jpg', 'Unit3File_31.jpg', 'Unit3File_32.jpg', 'Unit3File_33.jpg', 'Unit3File_34.jpg', 'Unit2File_0.jpg', 'Unit2File_1.jpg', 'Unit2File_2.jpg', 'Unit2File_3.jpg', 'Unit2File_4.jpg', 'Unit2File_5.jpg', 'Unit2File_6.jpg', 'Unit2File_7.jpg', 'Unit2File_8.jpg', 'Unit2File_9.jpg', 'Unit2File_10.jpg', 'Unit2File_11.jpg', 'Unit2File_12.jpg', 'Unit2File_13.jpg', 'Unit2File_14.jpg', 'Unit2File_15.jpg', 'Unit2File_16.jpg', 'Unit2File_17.jpg', 'Unit2File_18.jpg', 'Unit2File_19.jpg', 'Unit2File_20.jpg', 'Unit2File_21.jpg', 'Unit2File_22.jpg', 'Unit2File_23.jpg', 'Unit2File_24.jpg', 'Unit2File_25.jpg', 'Unit2File_26.jpg', 'Unit2File_27.jpg', 'Unit2File_28.jpg', 'Unit2File_29.jpg', 'Unit2File_30.jpg', 'Unit2File_31.jpg', 'Unit2File_32.jpg', 'Unit2File_33.jpg', 'Unit2File_34.jpg', 'Unit2File_35.jpg', 'Unit2File_36.jpg', 'Unit2File_37.jpg', 'Unit2File_38.jpg', 'Unit2File_39.jpg', 'Unit2File_40.jpg', 'Unit2File_41.jpg', 'Unit2File_42.jpg', 'Unit2File_43.jpg', 'Unit2File_44.jpg', 'Unit4File_16.jpg', 'Unit4File_21.jpg', 'Unit4File_17.jpg', 'Unit4File_46.jpg', 'Unit4File_47.jpg', 'Unit4File_48.jpg', 'Unit4File_49.jpg', 'Unit4File_50.jpg', 'Unit4File_51.jpg', 'Unit4File_52.jpg', 'Unit4File_53.jpg', 'Unit4File_54.jpg', 'Unit4File_55.jpg', 'Unit4File_22.jpg', 'Unit4File_56.jpg', 'Unit4File_57.jpg', 'Unit4File_58.jpg', 'Unit4File_59.jpg', 'Unit4File_60.jpg', 'Unit4File_61.jpg', 'Unit4File_62.jpg', 'Unit4File_63.jpg', 'Unit4File_64.jpg', 'Unit4File_65.jpg', 'Unit4File_66.jpg', 'Unit4File_67.jpg', 'Unit4File_68.jpg', 'Unit4File_69.jpg', 'Unit4File_70.jpg', 'Unit4File_71.jpg', 'Unit4File_72.jpg', 'Unit4File_73.jpg', 'Unit4File_74.jpg', 'Unit4File_75.jpg', 'Unit4File_76.jpg', 'Unit4File_77.jpg', 'Unit4File_78.jpg', 'Unit4File_79.jpg', 'Unit4File_80.jpg', 'Unit4File_81.jpg', 'Unit4File_82.jpg', 'Unit4File_83.jpg', 'Unit4File_84.jpg', 'Unit4File_85.jpg', 'Unit4File_86.jpg', 'Unit4File_87.jpg', 'Unit4File_88.jpg', 'Unit4File_89.jpg', 'Unit4File_90.jpg', 'Unit4File_91.jpg', 'Unit4File_92.jpg', 'Unit4File_93.jpg', 'Unit4File_94.jpg', 'Unit4File_95.jpg', 'Unit4File_96.jpg', 'Unit4File_97.jpg', 'Unit4File_98.jpg', 'Unit4File_99.jpg', 'Unit4File_100.jpg', 'Unit4File_101.jpg', 'Unit4File_102.jpg', 'Unit4File_103.jpg', 'Unit4File_104.jpg', 'Unit4File_105.jpg', 'Unit4File_106.jpg', 'Unit4File_107.jpg', 'Unit4File_108.jpg', 'Unit4File_109.jpg', 'Unit4File_110.jpg', 'Unit4File_111.jpg', 'Unit4File_112.jpg', 'Unit4File_113.jpg', 'Unit4File_114.jpg', 'Unit4File_115.jpg', 'Unit4File_116.jpg', 'Unit4File_18.jpg', 'Unit4File_23.jpg', 'Unit4File_19.jpg', 'Unit4File_24.jpg', 'Unit4File_30.jpg', 'Unit4File_20.jpg', 'Unit4File_25.jpg', 'Unit4File_31.jpg', 'Unit4File_41.jpg', 'Unit4File_32.jpg', 'Unit4File_42.jpg', 'Unit4File_26.jpg', 'Unit4File_33.jpg', 'Unit4File_43.jpg', 'Unit4File_27.jpg', 'Unit4File_34.jpg', 'Unit4File_28.jpg', 'Unit4File_44.jpg', 'Unit4File_29.jpg', 'Unit4File_35.jpg', 'Unit4File_45.jpg', 'Unit4File_36.jpg', 'Unit4File_37.jpg', 'Unit4File_38.jpg', 'Unit4File_39.jpg', 'Unit4File_40.jpg', 'Unit4File_15.jpg', 'Unit4File_0.jpg', 'Unit4File_1.jpg', 'Unit4File_2.jpg', 'Unit4File_3.jpg', 'Unit4File_4.jpg', 'Unit4File_5.jpg', 'Unit4File_6.jpg', 'Unit4File_7.jpg', 'Unit4File_8.jpg', 'Unit4File_9.jpg', 'Unit4File_10.jpg', 'Unit4File_11.jpg', 'Unit4File_12.jpg', 'Unit4File_13.jpg', 'Unit4File_14.jpg', 'Unit5File_0.jpg', 'Unit5File_1.jpg', 'Unit5File_2.jpg', 'Unit5File_3.jpg', 'Unit5File_4.jpg', 'Unit5File_5.jpg', 'Unit5File_6.jpg', 'Unit5File_7.jpg', 'Unit5File_8.jpg', 'Unit5File_9.jpg', 'Unit5File_10.jpg', 'Unit5File_11.jpg', 'Unit5File_12.jpg', 'Unit5File_13.jpg', 'Unit6File_0.jpg']\n",
            "['Unit2File_111.jpg', 'Unit2File_112.jpg', 'Unit2File_113.jpg', 'Unit2File_114.jpg', 'Unit2File_115.jpg', 'Unit2File_116.jpg', 'Unit2File_117.jpg', 'Unit2File_118.jpg', 'Unit2File_119.jpg', 'Unit2File_120.jpg', 'Unit2File_121.jpg', 'Unit2File_122.jpg', 'Unit2File_123.jpg', 'Unit2File_124.jpg', 'Unit2File_125.jpg', 'Unit2File_126.jpg', 'Unit2File_127.jpg', 'Unit2File_128.jpg', 'Unit2File_129.jpg', 'Unit2File_130.jpg', 'Unit2File_131.jpg', 'Unit2File_132.jpg', 'Unit2File_133.jpg', 'Unit2File_134.jpg', 'Unit2File_135.jpg', 'Unit2File_136.jpg', 'Unit2File_137.jpg', 'Unit2File_138.jpg', 'Unit2File_139.jpg', 'Unit2File_140.jpg', 'Unit2File_141.jpg', 'Unit2File_142.jpg', 'Unit2File_143.jpg', 'Unit2File_144.jpg', 'Unit2File_145.jpg', 'Unit2File_146.jpg', 'Unit2File_147.jpg', 'Unit2File_148.jpg', 'Unit2File_149.jpg', 'Unit2File_150.jpg', 'Unit2File_151.jpg', 'Unit2File_152.jpg', 'Unit2File_153.jpg', 'Unit2File_154.jpg', 'Unit2File_155.jpg', 'Unit2File_156.jpg', 'Unit2File_157.jpg', 'Unit2File_158.jpg', 'Unit2File_159.jpg', 'Unit2File_160.jpg', 'Unit2File_161.jpg', 'Unit2File_162.jpg', 'Unit2File_163.jpg', 'Unit2File_164.jpg', 'Unit2File_165.jpg', 'Unit2File_166.jpg', 'Unit2File_167.jpg', 'Unit2File_168.jpg', 'Unit2File_169.jpg', 'Unit2File_170.jpg', 'Unit2File_171.jpg', 'Unit2File_172.jpg', 'Unit2File_173.jpg', 'Unit2File_174.jpg', 'Unit2File_175.jpg', 'Unit2File_176.jpg', 'Unit2File_177.jpg', 'Unit2File_178.jpg', 'Unit2File_179.jpg', 'Unit2File_180.jpg', 'Unit2File_181.jpg', 'Unit2File_182.jpg', 'Unit2File_183.jpg', 'Unit2File_184.jpg', 'Unit2File_185.jpg', 'Unit2File_186.jpg', 'Unit2File_187.jpg', 'Unit2File_188.jpg', 'Unit2File_189.jpg', 'Unit2File_190.jpg', 'Unit2File_191.jpg', 'Unit2File_192.jpg', 'Unit2File_193.jpg', 'Unit2File_194.jpg', 'Unit2File_195.jpg', 'Unit2File_196.jpg', 'Unit2File_197.jpg', 'Unit2File_198.jpg', 'Unit2File_199.jpg', 'Unit2File_200.jpg', 'Unit2File_201.jpg', 'Unit2File_202.jpg', 'Unit2File_203.jpg', 'Unit2File_204.jpg', 'Unit2File_205.jpg', 'Unit2File_206.jpg', 'Unit2File_207.jpg', 'Unit2File_208.jpg', 'Unit2File_209.jpg', 'Unit2File_210.jpg', 'Unit2File_211.jpg', 'Unit2File_212.jpg', 'Unit2File_213.jpg', 'Unit2File_214.jpg', 'Unit2File_215.jpg', 'Unit3File_0.jpg', 'Unit3File_1.jpg', 'Unit3File_2.jpg', 'Unit3File_3.jpg', 'Unit3File_4.jpg', 'Unit3File_5.jpg', 'Unit3File_6.jpg', 'Unit3File_7.jpg', 'Unit3File_8.jpg', 'Unit3File_9.jpg', 'Unit3File_10.jpg', 'Unit3File_11.jpg', 'Unit3File_12.jpg', 'Unit3File_13.jpg', 'Unit3File_14.jpg', 'Unit3File_15.jpg', 'Unit3File_16.jpg', 'Unit3File_17.jpg', 'Unit3File_18.jpg', 'Unit3File_19.jpg', 'Unit3File_20.jpg', 'Unit3File_21.jpg', 'Unit3File_22.jpg', 'Unit3File_23.jpg', 'Unit3File_24.jpg', 'Unit3File_25.jpg', 'Unit3File_26.jpg', 'Unit3File_27.jpg', 'Unit3File_28.jpg', 'Unit3File_29.jpg', 'Unit3File_30.jpg', 'Unit3File_31.jpg', 'Unit3File_32.jpg', 'Unit3File_33.jpg', 'Unit3File_34.jpg', 'Unit3File_35.jpg', 'Unit3File_36.jpg', 'Unit3File_37.jpg', 'Unit3File_38.jpg', 'Unit3File_39.jpg', 'Unit3File_40.jpg', 'Unit3File_41.jpg', 'Unit3File_42.jpg', 'Unit3File_43.jpg', 'Unit3File_44.jpg', 'Unit3File_45.jpg', 'Unit3File_46.jpg', 'Unit3File_47.jpg', 'Unit3File_48.jpg', 'Unit3File_49.jpg', 'Unit3File_50.jpg', 'Unit3File_51.jpg', 'Unit3File_52.jpg', 'Unit3File_53.jpg', 'Unit3File_54.jpg', 'Unit3File_55.jpg', 'Unit3File_56.jpg', 'Unit3File_57.jpg', 'Unit3File_58.jpg', 'Unit3File_59.jpg', 'Unit3File_60.jpg', 'Unit3File_61.jpg', 'Unit3File_62.jpg', 'Unit3File_63.jpg', 'Unit3File_64.jpg', 'Unit3File_65.jpg', 'Unit3File_66.jpg', 'Unit3File_67.jpg', 'Unit3File_68.jpg', 'Unit3File_69.jpg', 'Unit3File_70.jpg', 'Unit3File_71.jpg', 'Unit3File_72.jpg', 'Unit3File_73.jpg', 'Unit3File_74.jpg', 'Unit3File_75.jpg', 'Unit3File_76.jpg', 'Unit3File_77.jpg', 'Unit3File_78.jpg', 'Unit3File_79.jpg', 'Unit3File_80.jpg', 'Unit3File_81.jpg', 'Unit3File_82.jpg', 'Unit3File_83.jpg', 'Unit3File_84.jpg', 'Unit3File_85.jpg', 'Unit3File_86.jpg', 'Unit3File_87.jpg', 'Unit3File_88.jpg', 'Unit3File_89.jpg', 'Unit3File_90.jpg', 'Unit3File_91.jpg', 'Unit3File_92.jpg', 'Unit3File_93.jpg', 'Unit3File_94.jpg', 'Unit3File_95.jpg', 'Unit3File_96.jpg', 'Unit3File_97.jpg', 'Unit3File_98.jpg', 'Unit3File_99.jpg', 'Unit3File_100.jpg', 'Unit3File_101.jpg', 'Unit3File_102.jpg', 'Unit3File_103.jpg', 'Unit3File_104.jpg', 'Unit4File_0.jpg', 'Unit4File_1.jpg', 'Unit4File_2.jpg', 'Unit4File_3.jpg', 'Unit4File_4.jpg', 'Unit4File_5.jpg', 'Unit4File_6.jpg', 'Unit4File_7.jpg', 'Unit4File_8.jpg', 'Unit4File_9.jpg', 'Unit4File_10.jpg', 'Unit4File_11.jpg', 'Unit4File_12.jpg', 'Unit4File_13.jpg', 'Unit4File_14.jpg', 'Unit4File_15.jpg', 'Unit4File_16.jpg', 'Unit4File_17.jpg', 'Unit4File_18.jpg', 'Unit4File_19.jpg', 'Unit4File_20.jpg', 'Unit4File_21.jpg', 'Unit4File_22.jpg', 'Unit4File_23.jpg', 'Unit4File_24.jpg', 'Unit4File_25.jpg', 'Unit4File_26.jpg', 'Unit4File_27.jpg', 'Unit4File_28.jpg', 'Unit4File_29.jpg', 'Unit4File_30.jpg', 'Unit4File_31.jpg', 'Unit4File_32.jpg', 'Unit4File_33.jpg', 'Unit4File_34.jpg', 'Unit4File_35.jpg', 'Unit4File_36.jpg', 'Unit4File_37.jpg', 'Unit4File_38.jpg', 'Unit4File_39.jpg', 'Unit4File_40.jpg', 'Unit4File_41.jpg', 'Unit4File_42.jpg', 'Unit4File_43.jpg', 'Unit4File_44.jpg', 'Unit4File_45.jpg', 'Unit4File_46.jpg', 'Unit4File_47.jpg', 'Unit4File_48.jpg', 'Unit4File_49.jpg', 'Unit4File_50.jpg', 'Unit4File_51.jpg', 'Unit4File_52.jpg', 'Unit4File_53.jpg', 'Unit4File_54.jpg', 'Unit4File_55.jpg', 'Unit4File_56.jpg', 'Unit4File_57.jpg', 'Unit4File_58.jpg', 'Unit4File_59.jpg', 'Unit4File_60.jpg', 'Unit4File_61.jpg', 'Unit4File_62.jpg', 'Unit4File_63.jpg', 'Unit4File_64.jpg', 'Unit4File_65.jpg', 'Unit4File_66.jpg', 'Unit4File_67.jpg', 'Unit4File_68.jpg', 'Unit4File_69.jpg', 'Unit4File_70.jpg', 'Unit4File_71.jpg', 'Unit4File_72.jpg', 'Unit4File_73.jpg', 'Unit4File_74.jpg', 'Unit4File_75.jpg', 'Unit4File_76.jpg', 'Unit4File_77.jpg', 'Unit4File_78.jpg', 'Unit4File_79.jpg', 'Unit4File_80.jpg', 'Unit4File_81.jpg', 'Unit4File_82.jpg', 'Unit4File_83.jpg', 'Unit4File_84.jpg', 'Unit4File_85.jpg', 'Unit4File_86.jpg', 'Unit4File_87.jpg', 'Unit4File_88.jpg', 'Unit4File_89.jpg', 'Unit4File_90.jpg', 'Unit4File_91.jpg', 'Unit4File_92.jpg', 'Unit4File_93.jpg', 'Unit4File_94.jpg', 'Unit4File_95.jpg', 'Unit4File_96.jpg', 'Unit4File_97.jpg', 'Unit4File_98.jpg', 'Unit4File_99.jpg', 'Unit4File_100.jpg', 'Unit4File_101.jpg', 'Unit4File_102.jpg', 'Unit4File_103.jpg', 'Unit4File_104.jpg', 'Unit4File_105.jpg', 'Unit4File_106.jpg', 'Unit4File_107.jpg', 'Unit4File_108.jpg', 'Unit4File_109.jpg', 'Unit4File_110.jpg', 'Unit4File_111.jpg', 'Unit4File_112.jpg', 'Unit4File_113.jpg', 'Unit4File_114.jpg', 'Unit4File_115.jpg', 'Unit4File_116.jpg', 'Unit4File_117.jpg', 'Unit4File_118.jpg', 'Unit4File_119.jpg', 'Unit4File_120.jpg', 'Unit4File_121.jpg', 'Unit4File_122.jpg', 'Unit4File_123.jpg', 'Unit4File_124.jpg', 'Unit4File_125.jpg', 'Unit4File_126.jpg', 'Unit4File_127.jpg', 'Unit4File_128.jpg', 'Unit4File_129.jpg', 'Unit4File_130.jpg', 'Unit4File_131.jpg', 'Unit4File_132.jpg', 'Unit4File_133.jpg', 'Unit4File_134.jpg', 'Unit4File_135.jpg', 'Unit4File_136.jpg', 'Unit4File_137.jpg', 'Unit4File_138.jpg', 'Unit4File_139.jpg', 'Unit4File_140.jpg', 'Unit4File_141.jpg', 'Unit4File_142.jpg', 'Unit4File_143.jpg', 'Unit4File_144.jpg', 'Unit4File_145.jpg', 'Unit4File_146.jpg', 'Unit4File_147.jpg', 'Unit4File_148.jpg', 'Unit4File_149.jpg', 'Unit4File_150.jpg', 'Unit4File_151.jpg', 'Unit4File_152.jpg', 'Unit4File_153.jpg', 'Unit4File_154.jpg', 'Unit4File_155.jpg', 'Unit4File_156.jpg', 'Unit4File_157.jpg', 'Unit4File_158.jpg', 'Unit4File_159.jpg', 'Unit4File_160.jpg', 'Unit4File_161.jpg', 'Unit4File_162.jpg', 'Unit4File_163.jpg', 'Unit4File_164.jpg', 'Unit4File_165.jpg', 'Unit4File_166.jpg', 'Unit4File_167.jpg', 'Unit4File_168.jpg', 'Unit4File_169.jpg', 'Unit4File_170.jpg', 'Unit4File_171.jpg', 'Unit4File_172.jpg', 'Unit4File_173.jpg', 'Unit4File_174.jpg', 'Unit4File_175.jpg', 'Unit4File_176.jpg', 'Unit4File_177.jpg', 'Unit4File_178.jpg', 'Unit4File_179.jpg', 'Unit4File_180.jpg', 'Unit4File_181.jpg', 'Unit4File_182.jpg', 'Unit4File_183.jpg', 'Unit4File_184.jpg', 'Unit4File_185.jpg', 'Unit4File_186.jpg', 'Unit4File_187.jpg', 'Unit4File_188.jpg', 'Unit4File_189.jpg', 'Unit4File_190.jpg', 'Unit4File_191.jpg', 'Unit4File_192.jpg', 'Unit4File_193.jpg', 'Unit4File_194.jpg', 'Unit5File_0.jpg', 'Unit5File_1.jpg', 'Unit5File_2.jpg', 'Unit5File_3.jpg', 'Unit5File_4.jpg', 'Unit5File_5.jpg', 'Unit5File_6.jpg', 'Unit5File_7.jpg', 'Unit5File_8.jpg', 'Unit5File_9.jpg', 'Unit5File_10.jpg', 'Unit5File_11.jpg', 'Unit5File_12.jpg', 'Unit5File_13.jpg', 'Unit5File_14.jpg', 'Unit5File_15.jpg', 'Unit5File_16.jpg', 'Unit5File_17.jpg', 'Unit5File_18.jpg', 'Unit5File_19.jpg', 'Unit5File_20.jpg', 'Unit5File_21.jpg', 'Unit5File_22.jpg', 'Unit5File_23.jpg', 'Unit5File_24.jpg', 'Unit5File_25.jpg', 'Unit5File_26.jpg', 'Unit5File_27.jpg', 'Unit5File_28.jpg', 'Unit5File_29.jpg', 'Unit5File_30.jpg', 'Unit5File_31.jpg', 'Unit5File_32.jpg', 'Unit5File_33.jpg', 'Unit5File_34.jpg', 'Unit5File_35.jpg', 'Unit5File_36.jpg', 'Unit5File_37.jpg', 'Unit5File_38.jpg', 'Unit5File_39.jpg', 'Unit5File_40.jpg', 'Unit5File_41.jpg', 'Unit5File_42.jpg', 'Unit5File_43.jpg', 'Unit5File_44.jpg', 'Unit5File_45.jpg', 'Unit5File_46.jpg', 'Unit5File_47.jpg', 'Unit5File_48.jpg', 'Unit5File_49.jpg', 'Unit5File_50.jpg', 'Unit5File_51.jpg', 'Unit5File_52.jpg', 'Unit5File_53.jpg', 'Unit5File_54.jpg', 'File_000001.jpg', 'File_000002.jpg', 'File_000004.jpg', 'File_000005.jpg', 'File_000006.jpg', 'File_000007.jpg', 'File_000008.jpg', 'File_000009.jpg', 'File_000010.jpg', 'File_000011.jpg', 'File_000012.jpg', 'File_000013.jpg', 'File_000014.jpg', 'File_000015.jpg', 'File_000016.jpg', 'File_000017.jpg', 'File_000018.jpg', 'File_000019.jpg', 'File_000020.jpg', 'File_000021.jpg', 'File_000022.jpg', 'File_000023.jpg', 'File_000026.jpg', 'File_000027.jpg', 'File_000028.jpg', 'File_000029.jpg', 'File_000031.jpg', 'File_000032.jpg', 'File_000033.jpg', 'File_000034.jpg', 'File_000035.jpg', 'File_000036.jpg', 'File_000037.jpg', 'File_000039.jpg', 'File_000040.jpg', 'File_000042.jpg', 'File_000043.jpg', 'File_000044.jpg', 'File_000045.jpg', 'File_000046.jpg', 'File_000048.jpg', 'File_000049.jpg', 'File_000050.jpg', 'File_000051.jpg', 'File_000052.jpg', 'File_000053.jpg', 'File_000054.jpg', 'File_000055.jpg', 'File_000056.jpg', 'File_000058.jpg', 'File_000059.jpg', 'File_000060.jpg', 'File_000062.jpg', 'File_000063.jpg', 'File_000064.jpg', 'File_000065.jpg', 'File_000066.jpg', 'File_000067.jpg', 'File_000068.jpg', 'File_000070.jpg', 'File_000073.jpg', 'File_000074.jpg', 'File_000075.jpg', 'File_000076.jpg', 'File_000077.jpg', 'File_000078.jpg', 'File_000079.jpg', 'File_000081.jpg', 'File_000082.jpg', 'File_000083.jpg', 'File_000084.jpg', 'File_000085.jpg', 'File_000086.jpg', 'File_000087.jpg', 'File_000088.jpg', 'File_000089.jpg', 'File_000090.jpg', 'File_000091.jpg', 'File_000092.jpg', 'File_000093.jpg', 'File_000094.jpg', 'File_000095.jpg', 'File_000096.jpg', 'File_000097.jpg', 'File_000098.jpg', 'File_000099.jpg', 'File_000100.jpg', 'File_000101.jpg', 'File_000102.jpg', 'File_000103.jpg', 'File_000105.jpg', 'File_000106.jpg', 'File_000107.jpg', 'File_000108.jpg', 'File_000109.jpg', 'File_000110.jpg', 'File_000111.jpg', 'File_000112.jpg', 'File_000113.jpg', 'File_000114.jpg', 'File_000115.jpg', 'File_000116.jpg', 'File_000117.jpg', 'File_000118.jpg', 'File_000119.jpg', 'File_000120.jpg', 'File_000121.jpg', 'File_000122.jpg', 'File_000124.jpg', 'File_000125.jpg', 'File_000126.jpg', 'File_000127.jpg', 'File_000129.jpg', 'File_000130.jpg', 'File_000131.jpg', 'File_000132.jpg', 'File_000133.jpg', 'Unit2File_0.jpg', 'Unit2File_1.jpg', 'Unit2File_2.jpg', 'Unit2File_3.jpg', 'Unit2File_4.jpg', 'Unit2File_5.jpg', 'Unit2File_6.jpg', 'Unit2File_7.jpg', 'Unit2File_8.jpg', 'Unit2File_9.jpg', 'Unit2File_10.jpg', 'Unit2File_11.jpg', 'Unit2File_12.jpg', 'Unit2File_13.jpg', 'Unit2File_14.jpg', 'Unit2File_15.jpg', 'Unit2File_16.jpg', 'Unit2File_17.jpg', 'Unit2File_18.jpg', 'Unit2File_19.jpg', 'Unit2File_20.jpg', 'Unit2File_21.jpg', 'Unit2File_22.jpg', 'Unit2File_23.jpg', 'Unit2File_24.jpg', 'Unit2File_25.jpg', 'Unit2File_26.jpg', 'Unit2File_27.jpg', 'Unit2File_28.jpg', 'Unit2File_29.jpg', 'Unit2File_30.jpg', 'Unit2File_31.jpg', 'Unit2File_32.jpg', 'Unit2File_33.jpg', 'Unit2File_34.jpg', 'Unit2File_35.jpg', 'Unit2File_36.jpg', 'Unit2File_37.jpg', 'Unit2File_38.jpg', 'Unit2File_39.jpg', 'Unit2File_40.jpg', 'Unit2File_41.jpg', 'Unit2File_42.jpg', 'Unit2File_43.jpg', 'Unit2File_44.jpg', 'Unit2File_45.jpg', 'Unit2File_46.jpg', 'Unit2File_47.jpg', 'Unit2File_48.jpg', 'Unit2File_49.jpg', 'Unit2File_50.jpg', 'Unit2File_51.jpg', 'Unit2File_52.jpg', 'Unit2File_53.jpg', 'Unit2File_54.jpg', 'Unit2File_55.jpg', 'Unit2File_56.jpg', 'Unit2File_57.jpg', 'Unit2File_58.jpg', 'Unit2File_59.jpg', 'Unit2File_60.jpg', 'Unit2File_61.jpg', 'Unit2File_62.jpg', 'Unit2File_63.jpg', 'Unit2File_64.jpg', 'Unit2File_65.jpg', 'Unit2File_66.jpg', 'Unit2File_67.jpg', 'Unit2File_68.jpg', 'Unit2File_69.jpg', 'Unit2File_70.jpg', 'Unit2File_71.jpg', 'Unit2File_72.jpg', 'Unit2File_73.jpg', 'Unit2File_74.jpg', 'Unit2File_75.jpg', 'Unit2File_76.jpg', 'Unit2File_77.jpg', 'Unit2File_78.jpg', 'Unit2File_79.jpg', 'Unit2File_80.jpg', 'Unit2File_81.jpg', 'Unit2File_82.jpg', 'Unit2File_83.jpg', 'Unit2File_84.jpg', 'Unit2File_85.jpg', 'Unit2File_86.jpg', 'Unit2File_87.jpg', 'Unit2File_88.jpg', 'Unit2File_89.jpg', 'Unit2File_90.jpg', 'Unit2File_91.jpg', 'Unit2File_92.jpg', 'Unit2File_93.jpg', 'Unit2File_94.jpg', 'Unit2File_95.jpg', 'Unit2File_96.jpg', 'Unit2File_97.jpg', 'Unit2File_98.jpg', 'Unit2File_99.jpg', 'Unit2File_100.jpg', 'Unit2File_101.jpg', 'Unit2File_102.jpg', 'Unit2File_103.jpg', 'Unit2File_104.jpg', 'Unit2File_105.jpg', 'Unit2File_106.jpg', 'Unit2File_107.jpg', 'Unit2File_108.jpg', 'Unit2File_109.jpg', 'Unit2File_110.jpg']\n"
          ],
          "name": "stdout"
        }
      ]
    },
    {
      "cell_type": "code",
      "metadata": {
        "id": "lQFd7TarsqK-"
      },
      "source": [
        "data = {'Positivepng': class1[:480], \n",
        "        'Negativepng': class2[:480], \n",
        "        'test': [class1[481], class2[481]]}"
      ],
      "execution_count": null,
      "outputs": []
    },
    {
      "cell_type": "code",
      "metadata": {
        "id": "lacUwIZrR6ds"
      },
      "source": [
        "features = {\"Positivepng\":[], \"Negativepng\":[], \"test\":[]}\n",
        "test_features = []\n",
        "test_imgs = []\n",
        "\n",
        "for label, val in data.items():\n",
        "  # print(label,val)\n",
        "  for k, each in enumerate(val):\n",
        "    # print(k,each)\n",
        "    if label == \"test\" and k == 0:\n",
        "      img_path = basepath + \"/Positivepng/\" + each \n",
        "      # print(img_path)\n",
        "      test_imgs.append(img_path)\n",
        "    elif label == \"test\" and k == 1:\n",
        "      img_path = basepath + \"/Negativepng/\" + each\n",
        "      # print(img_path)\n",
        "      test_imgs.append(img_path)\n",
        "    else: \n",
        "      img_path = basepath + label.title() + \"/\" + each\n",
        "      # print(img_path)\n",
        "      # print(label.title())\n",
        "    feats = _get_features(img_path)\n",
        "    # feats = np.resize(feats,(224,224,3))\n",
        "    test_features.append(feats)\n",
        "    # print(\"dim: \",feats.ndim, feats.shape, feats.dtype)\n",
        "    # print(type(feats))\n",
        "\n",
        "    features[label].append(feats.flatten())\n",
        "# print(feats)"
      ],
      "execution_count": null,
      "outputs": []
    },
    {
      "cell_type": "code",
      "metadata": {
        "id": "i0lIcH3CmOGG",
        "colab": {
          "base_uri": "https://localhost:8080/",
          "height": 36
        },
        "outputId": "d7ab17e9-1627-40a5-dfa8-b959dece658b"
      },
      "source": [
        "print(\"dimension:\",test_features[0].ndim, \" shape:\",test_features[0].shape, \" Data_Type:\", test_features[0].dtype)"
      ],
      "execution_count": null,
      "outputs": [
        {
          "output_type": "stream",
          "text": [
            "dimension: 4  shape: (1, 7, 7, 2048)  Data_Type: float32\n"
          ],
          "name": "stdout"
        }
      ]
    },
    {
      "cell_type": "code",
      "metadata": {
        "id": "LN4DxKfpagki",
        "colab": {
          "base_uri": "https://localhost:8080/",
          "height": 255
        },
        "outputId": "31819b75-014d-4fe5-df03-7410a24dd0e8"
      },
      "source": [
        "import pandas as pd\n",
        "test_label=[]\n",
        "dataset = pd.DataFrame()\n",
        "for label, feats in features.items():\n",
        "    # print(label,feats)\n",
        "    test_label.append(label)\n",
        "    temp_df = pd.DataFrame(feats)\n",
        "    temp_df['label'] = label\n",
        "    dataset = dataset.append(temp_df, ignore_index=True)\n",
        "dataset.head()"
      ],
      "execution_count": null,
      "outputs": [
        {
          "output_type": "execute_result",
          "data": {
            "text/html": [
              "<div>\n",
              "<style scoped>\n",
              "    .dataframe tbody tr th:only-of-type {\n",
              "        vertical-align: middle;\n",
              "    }\n",
              "\n",
              "    .dataframe tbody tr th {\n",
              "        vertical-align: top;\n",
              "    }\n",
              "\n",
              "    .dataframe thead th {\n",
              "        text-align: right;\n",
              "    }\n",
              "</style>\n",
              "<table border=\"1\" class=\"dataframe\">\n",
              "  <thead>\n",
              "    <tr style=\"text-align: right;\">\n",
              "      <th></th>\n",
              "      <th>0</th>\n",
              "      <th>1</th>\n",
              "      <th>2</th>\n",
              "      <th>3</th>\n",
              "      <th>4</th>\n",
              "      <th>5</th>\n",
              "      <th>6</th>\n",
              "      <th>7</th>\n",
              "      <th>8</th>\n",
              "      <th>9</th>\n",
              "      <th>10</th>\n",
              "      <th>11</th>\n",
              "      <th>12</th>\n",
              "      <th>13</th>\n",
              "      <th>14</th>\n",
              "      <th>15</th>\n",
              "      <th>16</th>\n",
              "      <th>17</th>\n",
              "      <th>18</th>\n",
              "      <th>19</th>\n",
              "      <th>20</th>\n",
              "      <th>21</th>\n",
              "      <th>22</th>\n",
              "      <th>23</th>\n",
              "      <th>24</th>\n",
              "      <th>25</th>\n",
              "      <th>26</th>\n",
              "      <th>27</th>\n",
              "      <th>28</th>\n",
              "      <th>29</th>\n",
              "      <th>30</th>\n",
              "      <th>31</th>\n",
              "      <th>32</th>\n",
              "      <th>33</th>\n",
              "      <th>34</th>\n",
              "      <th>35</th>\n",
              "      <th>36</th>\n",
              "      <th>37</th>\n",
              "      <th>38</th>\n",
              "      <th>39</th>\n",
              "      <th>...</th>\n",
              "      <th>100313</th>\n",
              "      <th>100314</th>\n",
              "      <th>100315</th>\n",
              "      <th>100316</th>\n",
              "      <th>100317</th>\n",
              "      <th>100318</th>\n",
              "      <th>100319</th>\n",
              "      <th>100320</th>\n",
              "      <th>100321</th>\n",
              "      <th>100322</th>\n",
              "      <th>100323</th>\n",
              "      <th>100324</th>\n",
              "      <th>100325</th>\n",
              "      <th>100326</th>\n",
              "      <th>100327</th>\n",
              "      <th>100328</th>\n",
              "      <th>100329</th>\n",
              "      <th>100330</th>\n",
              "      <th>100331</th>\n",
              "      <th>100332</th>\n",
              "      <th>100333</th>\n",
              "      <th>100334</th>\n",
              "      <th>100335</th>\n",
              "      <th>100336</th>\n",
              "      <th>100337</th>\n",
              "      <th>100338</th>\n",
              "      <th>100339</th>\n",
              "      <th>100340</th>\n",
              "      <th>100341</th>\n",
              "      <th>100342</th>\n",
              "      <th>100343</th>\n",
              "      <th>100344</th>\n",
              "      <th>100345</th>\n",
              "      <th>100346</th>\n",
              "      <th>100347</th>\n",
              "      <th>100348</th>\n",
              "      <th>100349</th>\n",
              "      <th>100350</th>\n",
              "      <th>100351</th>\n",
              "      <th>label</th>\n",
              "    </tr>\n",
              "  </thead>\n",
              "  <tbody>\n",
              "    <tr>\n",
              "      <th>0</th>\n",
              "      <td>0.0</td>\n",
              "      <td>0.0</td>\n",
              "      <td>0.0</td>\n",
              "      <td>0.502597</td>\n",
              "      <td>0.0</td>\n",
              "      <td>0.0</td>\n",
              "      <td>0.0</td>\n",
              "      <td>0.0</td>\n",
              "      <td>0.0</td>\n",
              "      <td>0.0</td>\n",
              "      <td>0.0</td>\n",
              "      <td>0.0</td>\n",
              "      <td>0.0</td>\n",
              "      <td>0.0</td>\n",
              "      <td>0.0</td>\n",
              "      <td>0.0</td>\n",
              "      <td>0.0</td>\n",
              "      <td>0.0</td>\n",
              "      <td>0.0</td>\n",
              "      <td>0.0</td>\n",
              "      <td>0.0</td>\n",
              "      <td>0.0</td>\n",
              "      <td>0.0</td>\n",
              "      <td>0.0</td>\n",
              "      <td>0.0</td>\n",
              "      <td>0.0</td>\n",
              "      <td>0.0</td>\n",
              "      <td>0.0</td>\n",
              "      <td>0.0</td>\n",
              "      <td>0.0</td>\n",
              "      <td>0.0</td>\n",
              "      <td>0.0</td>\n",
              "      <td>0.0</td>\n",
              "      <td>0.0</td>\n",
              "      <td>0.0</td>\n",
              "      <td>0.0</td>\n",
              "      <td>0.0</td>\n",
              "      <td>0.0</td>\n",
              "      <td>0.0</td>\n",
              "      <td>0.0</td>\n",
              "      <td>...</td>\n",
              "      <td>0.0</td>\n",
              "      <td>0.0</td>\n",
              "      <td>0.0</td>\n",
              "      <td>0.0</td>\n",
              "      <td>0.0</td>\n",
              "      <td>0.0</td>\n",
              "      <td>0.0</td>\n",
              "      <td>0.0</td>\n",
              "      <td>0.0</td>\n",
              "      <td>0.0</td>\n",
              "      <td>0.0</td>\n",
              "      <td>0.0</td>\n",
              "      <td>0.0</td>\n",
              "      <td>0.0</td>\n",
              "      <td>0.0</td>\n",
              "      <td>0.0</td>\n",
              "      <td>0.0</td>\n",
              "      <td>0.0</td>\n",
              "      <td>0.0</td>\n",
              "      <td>0.0</td>\n",
              "      <td>0.0</td>\n",
              "      <td>0.0</td>\n",
              "      <td>0.0</td>\n",
              "      <td>0.0</td>\n",
              "      <td>0.187717</td>\n",
              "      <td>0.0</td>\n",
              "      <td>0.0</td>\n",
              "      <td>0.0</td>\n",
              "      <td>0.0</td>\n",
              "      <td>0.0</td>\n",
              "      <td>0.0</td>\n",
              "      <td>0.0</td>\n",
              "      <td>0.0</td>\n",
              "      <td>0.0</td>\n",
              "      <td>0.0</td>\n",
              "      <td>0.0</td>\n",
              "      <td>0.0</td>\n",
              "      <td>0.0</td>\n",
              "      <td>0.0</td>\n",
              "      <td>Positivepng</td>\n",
              "    </tr>\n",
              "    <tr>\n",
              "      <th>1</th>\n",
              "      <td>0.0</td>\n",
              "      <td>0.0</td>\n",
              "      <td>0.0</td>\n",
              "      <td>0.859747</td>\n",
              "      <td>0.0</td>\n",
              "      <td>0.0</td>\n",
              "      <td>0.0</td>\n",
              "      <td>0.0</td>\n",
              "      <td>0.0</td>\n",
              "      <td>0.0</td>\n",
              "      <td>0.0</td>\n",
              "      <td>0.0</td>\n",
              "      <td>0.0</td>\n",
              "      <td>0.0</td>\n",
              "      <td>0.0</td>\n",
              "      <td>0.0</td>\n",
              "      <td>0.0</td>\n",
              "      <td>0.0</td>\n",
              "      <td>0.0</td>\n",
              "      <td>0.0</td>\n",
              "      <td>0.0</td>\n",
              "      <td>0.0</td>\n",
              "      <td>0.0</td>\n",
              "      <td>0.0</td>\n",
              "      <td>0.0</td>\n",
              "      <td>0.0</td>\n",
              "      <td>0.0</td>\n",
              "      <td>0.0</td>\n",
              "      <td>0.0</td>\n",
              "      <td>0.0</td>\n",
              "      <td>0.0</td>\n",
              "      <td>0.0</td>\n",
              "      <td>0.0</td>\n",
              "      <td>0.0</td>\n",
              "      <td>0.0</td>\n",
              "      <td>0.0</td>\n",
              "      <td>0.0</td>\n",
              "      <td>0.0</td>\n",
              "      <td>0.0</td>\n",
              "      <td>0.0</td>\n",
              "      <td>...</td>\n",
              "      <td>0.0</td>\n",
              "      <td>0.0</td>\n",
              "      <td>0.0</td>\n",
              "      <td>0.0</td>\n",
              "      <td>0.0</td>\n",
              "      <td>0.0</td>\n",
              "      <td>0.0</td>\n",
              "      <td>0.0</td>\n",
              "      <td>0.0</td>\n",
              "      <td>0.0</td>\n",
              "      <td>0.0</td>\n",
              "      <td>0.0</td>\n",
              "      <td>0.0</td>\n",
              "      <td>0.0</td>\n",
              "      <td>0.0</td>\n",
              "      <td>0.0</td>\n",
              "      <td>0.0</td>\n",
              "      <td>0.0</td>\n",
              "      <td>0.0</td>\n",
              "      <td>0.0</td>\n",
              "      <td>0.0</td>\n",
              "      <td>0.0</td>\n",
              "      <td>0.0</td>\n",
              "      <td>0.0</td>\n",
              "      <td>0.000000</td>\n",
              "      <td>0.0</td>\n",
              "      <td>0.0</td>\n",
              "      <td>0.0</td>\n",
              "      <td>0.0</td>\n",
              "      <td>0.0</td>\n",
              "      <td>0.0</td>\n",
              "      <td>0.0</td>\n",
              "      <td>0.0</td>\n",
              "      <td>0.0</td>\n",
              "      <td>0.0</td>\n",
              "      <td>0.0</td>\n",
              "      <td>0.0</td>\n",
              "      <td>0.0</td>\n",
              "      <td>0.0</td>\n",
              "      <td>Positivepng</td>\n",
              "    </tr>\n",
              "    <tr>\n",
              "      <th>2</th>\n",
              "      <td>0.0</td>\n",
              "      <td>0.0</td>\n",
              "      <td>0.0</td>\n",
              "      <td>0.000000</td>\n",
              "      <td>0.0</td>\n",
              "      <td>0.0</td>\n",
              "      <td>0.0</td>\n",
              "      <td>0.0</td>\n",
              "      <td>0.0</td>\n",
              "      <td>0.0</td>\n",
              "      <td>0.0</td>\n",
              "      <td>0.0</td>\n",
              "      <td>0.0</td>\n",
              "      <td>0.0</td>\n",
              "      <td>0.0</td>\n",
              "      <td>0.0</td>\n",
              "      <td>0.0</td>\n",
              "      <td>0.0</td>\n",
              "      <td>0.0</td>\n",
              "      <td>0.0</td>\n",
              "      <td>0.0</td>\n",
              "      <td>0.0</td>\n",
              "      <td>0.0</td>\n",
              "      <td>0.0</td>\n",
              "      <td>0.0</td>\n",
              "      <td>0.0</td>\n",
              "      <td>0.0</td>\n",
              "      <td>0.0</td>\n",
              "      <td>0.0</td>\n",
              "      <td>0.0</td>\n",
              "      <td>0.0</td>\n",
              "      <td>0.0</td>\n",
              "      <td>0.0</td>\n",
              "      <td>0.0</td>\n",
              "      <td>0.0</td>\n",
              "      <td>0.0</td>\n",
              "      <td>0.0</td>\n",
              "      <td>0.0</td>\n",
              "      <td>0.0</td>\n",
              "      <td>0.0</td>\n",
              "      <td>...</td>\n",
              "      <td>0.0</td>\n",
              "      <td>0.0</td>\n",
              "      <td>0.0</td>\n",
              "      <td>0.0</td>\n",
              "      <td>0.0</td>\n",
              "      <td>0.0</td>\n",
              "      <td>0.0</td>\n",
              "      <td>0.0</td>\n",
              "      <td>0.0</td>\n",
              "      <td>0.0</td>\n",
              "      <td>0.0</td>\n",
              "      <td>0.0</td>\n",
              "      <td>0.0</td>\n",
              "      <td>0.0</td>\n",
              "      <td>0.0</td>\n",
              "      <td>0.0</td>\n",
              "      <td>0.0</td>\n",
              "      <td>0.0</td>\n",
              "      <td>0.0</td>\n",
              "      <td>0.0</td>\n",
              "      <td>0.0</td>\n",
              "      <td>0.0</td>\n",
              "      <td>0.0</td>\n",
              "      <td>0.0</td>\n",
              "      <td>0.566087</td>\n",
              "      <td>0.0</td>\n",
              "      <td>0.0</td>\n",
              "      <td>0.0</td>\n",
              "      <td>0.0</td>\n",
              "      <td>0.0</td>\n",
              "      <td>0.0</td>\n",
              "      <td>0.0</td>\n",
              "      <td>0.0</td>\n",
              "      <td>0.0</td>\n",
              "      <td>0.0</td>\n",
              "      <td>0.0</td>\n",
              "      <td>0.0</td>\n",
              "      <td>0.0</td>\n",
              "      <td>0.0</td>\n",
              "      <td>Positivepng</td>\n",
              "    </tr>\n",
              "    <tr>\n",
              "      <th>3</th>\n",
              "      <td>0.0</td>\n",
              "      <td>0.0</td>\n",
              "      <td>0.0</td>\n",
              "      <td>0.860785</td>\n",
              "      <td>0.0</td>\n",
              "      <td>0.0</td>\n",
              "      <td>0.0</td>\n",
              "      <td>0.0</td>\n",
              "      <td>0.0</td>\n",
              "      <td>0.0</td>\n",
              "      <td>0.0</td>\n",
              "      <td>0.0</td>\n",
              "      <td>0.0</td>\n",
              "      <td>0.0</td>\n",
              "      <td>0.0</td>\n",
              "      <td>0.0</td>\n",
              "      <td>0.0</td>\n",
              "      <td>0.0</td>\n",
              "      <td>0.0</td>\n",
              "      <td>0.0</td>\n",
              "      <td>0.0</td>\n",
              "      <td>0.0</td>\n",
              "      <td>0.0</td>\n",
              "      <td>0.0</td>\n",
              "      <td>0.0</td>\n",
              "      <td>0.0</td>\n",
              "      <td>0.0</td>\n",
              "      <td>0.0</td>\n",
              "      <td>0.0</td>\n",
              "      <td>0.0</td>\n",
              "      <td>0.0</td>\n",
              "      <td>0.0</td>\n",
              "      <td>0.0</td>\n",
              "      <td>0.0</td>\n",
              "      <td>0.0</td>\n",
              "      <td>0.0</td>\n",
              "      <td>0.0</td>\n",
              "      <td>0.0</td>\n",
              "      <td>0.0</td>\n",
              "      <td>0.0</td>\n",
              "      <td>...</td>\n",
              "      <td>0.0</td>\n",
              "      <td>0.0</td>\n",
              "      <td>0.0</td>\n",
              "      <td>0.0</td>\n",
              "      <td>0.0</td>\n",
              "      <td>0.0</td>\n",
              "      <td>0.0</td>\n",
              "      <td>0.0</td>\n",
              "      <td>0.0</td>\n",
              "      <td>0.0</td>\n",
              "      <td>0.0</td>\n",
              "      <td>0.0</td>\n",
              "      <td>0.0</td>\n",
              "      <td>0.0</td>\n",
              "      <td>0.0</td>\n",
              "      <td>0.0</td>\n",
              "      <td>0.0</td>\n",
              "      <td>0.0</td>\n",
              "      <td>0.0</td>\n",
              "      <td>0.0</td>\n",
              "      <td>0.0</td>\n",
              "      <td>0.0</td>\n",
              "      <td>0.0</td>\n",
              "      <td>0.0</td>\n",
              "      <td>0.204494</td>\n",
              "      <td>0.0</td>\n",
              "      <td>0.0</td>\n",
              "      <td>0.0</td>\n",
              "      <td>0.0</td>\n",
              "      <td>0.0</td>\n",
              "      <td>0.0</td>\n",
              "      <td>0.0</td>\n",
              "      <td>0.0</td>\n",
              "      <td>0.0</td>\n",
              "      <td>0.0</td>\n",
              "      <td>0.0</td>\n",
              "      <td>0.0</td>\n",
              "      <td>0.0</td>\n",
              "      <td>0.0</td>\n",
              "      <td>Positivepng</td>\n",
              "    </tr>\n",
              "    <tr>\n",
              "      <th>4</th>\n",
              "      <td>0.0</td>\n",
              "      <td>0.0</td>\n",
              "      <td>0.0</td>\n",
              "      <td>0.000000</td>\n",
              "      <td>0.0</td>\n",
              "      <td>0.0</td>\n",
              "      <td>0.0</td>\n",
              "      <td>0.0</td>\n",
              "      <td>0.0</td>\n",
              "      <td>0.0</td>\n",
              "      <td>0.0</td>\n",
              "      <td>0.0</td>\n",
              "      <td>0.0</td>\n",
              "      <td>0.0</td>\n",
              "      <td>0.0</td>\n",
              "      <td>0.0</td>\n",
              "      <td>0.0</td>\n",
              "      <td>0.0</td>\n",
              "      <td>0.0</td>\n",
              "      <td>0.0</td>\n",
              "      <td>0.0</td>\n",
              "      <td>0.0</td>\n",
              "      <td>0.0</td>\n",
              "      <td>0.0</td>\n",
              "      <td>0.0</td>\n",
              "      <td>0.0</td>\n",
              "      <td>0.0</td>\n",
              "      <td>0.0</td>\n",
              "      <td>0.0</td>\n",
              "      <td>0.0</td>\n",
              "      <td>0.0</td>\n",
              "      <td>0.0</td>\n",
              "      <td>0.0</td>\n",
              "      <td>0.0</td>\n",
              "      <td>0.0</td>\n",
              "      <td>0.0</td>\n",
              "      <td>0.0</td>\n",
              "      <td>0.0</td>\n",
              "      <td>0.0</td>\n",
              "      <td>0.0</td>\n",
              "      <td>...</td>\n",
              "      <td>0.0</td>\n",
              "      <td>0.0</td>\n",
              "      <td>0.0</td>\n",
              "      <td>0.0</td>\n",
              "      <td>0.0</td>\n",
              "      <td>0.0</td>\n",
              "      <td>0.0</td>\n",
              "      <td>0.0</td>\n",
              "      <td>0.0</td>\n",
              "      <td>0.0</td>\n",
              "      <td>0.0</td>\n",
              "      <td>0.0</td>\n",
              "      <td>0.0</td>\n",
              "      <td>0.0</td>\n",
              "      <td>0.0</td>\n",
              "      <td>0.0</td>\n",
              "      <td>0.0</td>\n",
              "      <td>0.0</td>\n",
              "      <td>0.0</td>\n",
              "      <td>0.0</td>\n",
              "      <td>0.0</td>\n",
              "      <td>0.0</td>\n",
              "      <td>0.0</td>\n",
              "      <td>0.0</td>\n",
              "      <td>0.667303</td>\n",
              "      <td>0.0</td>\n",
              "      <td>0.0</td>\n",
              "      <td>0.0</td>\n",
              "      <td>0.0</td>\n",
              "      <td>0.0</td>\n",
              "      <td>0.0</td>\n",
              "      <td>0.0</td>\n",
              "      <td>0.0</td>\n",
              "      <td>0.0</td>\n",
              "      <td>0.0</td>\n",
              "      <td>0.0</td>\n",
              "      <td>0.0</td>\n",
              "      <td>0.0</td>\n",
              "      <td>0.0</td>\n",
              "      <td>Positivepng</td>\n",
              "    </tr>\n",
              "  </tbody>\n",
              "</table>\n",
              "<p>5 rows × 100353 columns</p>\n",
              "</div>"
            ],
            "text/plain": [
              "     0    1    2         3    4  ...  100348  100349  100350  100351        label\n",
              "0  0.0  0.0  0.0  0.502597  0.0  ...     0.0     0.0     0.0     0.0  Positivepng\n",
              "1  0.0  0.0  0.0  0.859747  0.0  ...     0.0     0.0     0.0     0.0  Positivepng\n",
              "2  0.0  0.0  0.0  0.000000  0.0  ...     0.0     0.0     0.0     0.0  Positivepng\n",
              "3  0.0  0.0  0.0  0.860785  0.0  ...     0.0     0.0     0.0     0.0  Positivepng\n",
              "4  0.0  0.0  0.0  0.000000  0.0  ...     0.0     0.0     0.0     0.0  Positivepng\n",
              "\n",
              "[5 rows x 100353 columns]"
            ]
          },
          "metadata": {
            "tags": []
          },
          "execution_count": 13
        }
      ]
    },
    {
      "cell_type": "code",
      "metadata": {
        "id": "ZYM7OVZKA5v8",
        "colab": {
          "base_uri": "https://localhost:8080/",
          "height": 73
        },
        "outputId": "2a952ce5-0c7c-4638-dfb3-8e9cf3b9c43b"
      },
      "source": [
        "for i in test_label:\n",
        "  print(i)"
      ],
      "execution_count": null,
      "outputs": [
        {
          "output_type": "stream",
          "text": [
            "Positivepng\n",
            "Negativepng\n",
            "test\n"
          ],
          "name": "stdout"
        }
      ]
    },
    {
      "cell_type": "code",
      "metadata": {
        "id": "HpbPkqCjanrH"
      },
      "source": [
        "y = dataset[dataset.label != 'test'].label\n",
        "X = dataset[dataset.label != 'test'].drop('label', axis=1)\n"
      ],
      "execution_count": null,
      "outputs": []
    },
    {
      "cell_type": "code",
      "metadata": {
        "id": "75oGAwt9tQKr",
        "colab": {
          "base_uri": "https://localhost:8080/",
          "height": 344
        },
        "outputId": "18c6b991-22fb-4699-de0e-a712ebcf8d5f"
      },
      "source": [
        "print(y.shape, y.ndim, y.dtype)\n",
        "print(X.shape, X.ndim, X.dtype)"
      ],
      "execution_count": null,
      "outputs": [
        {
          "output_type": "stream",
          "text": [
            "(960,) 1 object\n"
          ],
          "name": "stdout"
        },
        {
          "output_type": "error",
          "ename": "AttributeError",
          "evalue": "ignored",
          "traceback": [
            "\u001b[0;31m---------------------------------------------------------------------------\u001b[0m",
            "\u001b[0;31mAttributeError\u001b[0m                            Traceback (most recent call last)",
            "\u001b[0;32m<ipython-input-11-9a178088765a>\u001b[0m in \u001b[0;36m<module>\u001b[0;34m()\u001b[0m\n\u001b[1;32m      1\u001b[0m \u001b[0mprint\u001b[0m\u001b[0;34m(\u001b[0m\u001b[0my\u001b[0m\u001b[0;34m.\u001b[0m\u001b[0mshape\u001b[0m\u001b[0;34m,\u001b[0m \u001b[0my\u001b[0m\u001b[0;34m.\u001b[0m\u001b[0mndim\u001b[0m\u001b[0;34m,\u001b[0m \u001b[0my\u001b[0m\u001b[0;34m.\u001b[0m\u001b[0mdtype\u001b[0m\u001b[0;34m)\u001b[0m\u001b[0;34m\u001b[0m\u001b[0;34m\u001b[0m\u001b[0m\n\u001b[0;32m----> 2\u001b[0;31m \u001b[0mprint\u001b[0m\u001b[0;34m(\u001b[0m\u001b[0mX\u001b[0m\u001b[0;34m.\u001b[0m\u001b[0mshape\u001b[0m\u001b[0;34m,\u001b[0m \u001b[0mX\u001b[0m\u001b[0;34m.\u001b[0m\u001b[0mndim\u001b[0m\u001b[0;34m,\u001b[0m \u001b[0mX\u001b[0m\u001b[0;34m.\u001b[0m\u001b[0mdtype\u001b[0m\u001b[0;34m)\u001b[0m\u001b[0;34m\u001b[0m\u001b[0;34m\u001b[0m\u001b[0m\n\u001b[0m",
            "\u001b[0;32m/usr/local/lib/python3.6/dist-packages/pandas/core/generic.py\u001b[0m in \u001b[0;36m__getattr__\u001b[0;34m(self, name)\u001b[0m\n\u001b[1;32m   5272\u001b[0m             \u001b[0;32mif\u001b[0m \u001b[0mself\u001b[0m\u001b[0;34m.\u001b[0m\u001b[0m_info_axis\u001b[0m\u001b[0;34m.\u001b[0m\u001b[0m_can_hold_identifiers_and_holds_name\u001b[0m\u001b[0;34m(\u001b[0m\u001b[0mname\u001b[0m\u001b[0;34m)\u001b[0m\u001b[0;34m:\u001b[0m\u001b[0;34m\u001b[0m\u001b[0;34m\u001b[0m\u001b[0m\n\u001b[1;32m   5273\u001b[0m                 \u001b[0;32mreturn\u001b[0m \u001b[0mself\u001b[0m\u001b[0;34m[\u001b[0m\u001b[0mname\u001b[0m\u001b[0;34m]\u001b[0m\u001b[0;34m\u001b[0m\u001b[0;34m\u001b[0m\u001b[0m\n\u001b[0;32m-> 5274\u001b[0;31m             \u001b[0;32mreturn\u001b[0m \u001b[0mobject\u001b[0m\u001b[0;34m.\u001b[0m\u001b[0m__getattribute__\u001b[0m\u001b[0;34m(\u001b[0m\u001b[0mself\u001b[0m\u001b[0;34m,\u001b[0m \u001b[0mname\u001b[0m\u001b[0;34m)\u001b[0m\u001b[0;34m\u001b[0m\u001b[0;34m\u001b[0m\u001b[0m\n\u001b[0m\u001b[1;32m   5275\u001b[0m \u001b[0;34m\u001b[0m\u001b[0m\n\u001b[1;32m   5276\u001b[0m     \u001b[0;32mdef\u001b[0m \u001b[0m__setattr__\u001b[0m\u001b[0;34m(\u001b[0m\u001b[0mself\u001b[0m\u001b[0;34m,\u001b[0m \u001b[0mname\u001b[0m\u001b[0;34m:\u001b[0m \u001b[0mstr\u001b[0m\u001b[0;34m,\u001b[0m \u001b[0mvalue\u001b[0m\u001b[0;34m)\u001b[0m \u001b[0;34m->\u001b[0m \u001b[0;32mNone\u001b[0m\u001b[0;34m:\u001b[0m\u001b[0;34m\u001b[0m\u001b[0;34m\u001b[0m\u001b[0m\n",
            "\u001b[0;31mAttributeError\u001b[0m: 'DataFrame' object has no attribute 'dtype'"
          ]
        }
      ]
    },
    {
      "cell_type": "code",
      "metadata": {
        "id": "t30xzWELzuln"
      },
      "source": [
        "from sklearn.model_selection import train_test_split\n",
        "\n",
        "Xtrain, Xtest, ytrain, ytest = train_test_split(X, y, test_size=0.3)\n",
        "# print(Xtrain,Xtest, ytrain,ytest)"
      ],
      "execution_count": null,
      "outputs": []
    },
    {
      "cell_type": "code",
      "metadata": {
        "id": "rVuuWixy0HVl",
        "colab": {
          "base_uri": "https://localhost:8080/",
          "height": 36
        },
        "outputId": "bf847ff2-0618-401e-97de-c556b895ddb9"
      },
      "source": [
        "import time\n",
        "start = time.time()\n",
        "from sklearn import svm\n",
        "from sklearn.svm import SVC\n",
        "clf = SVC()\n",
        "clf.fit(Xtrain, ytrain)\n",
        "preds = clf.predict(Xtest)\n",
        "\n",
        "print('Running time: %.4f seconds' % (time.time()-start))"
      ],
      "execution_count": null,
      "outputs": [
        {
          "output_type": "stream",
          "text": [
            "Running time: 47.6755 seconds\n"
          ],
          "name": "stdout"
        }
      ]
    },
    {
      "cell_type": "code",
      "metadata": {
        "id": "Bw0HaE4P0QpK",
        "colab": {
          "base_uri": "https://localhost:8080/",
          "height": 36
        },
        "outputId": "8084242b-ef6c-4e2a-b75a-f322a9890bc2"
      },
      "source": [
        "from sklearn.metrics import accuracy_score, confusion_matrix, classification_report\n",
        "print(\"Accuracy on y_test:\",accuracy_score(ytest, preds))"
      ],
      "execution_count": null,
      "outputs": [
        {
          "output_type": "stream",
          "text": [
            "Accuracy on y_test: 0.9791666666666666\n"
          ],
          "name": "stdout"
        }
      ]
    },
    {
      "cell_type": "code",
      "metadata": {
        "id": "IazIj-La0WK2",
        "colab": {
          "base_uri": "https://localhost:8080/",
          "height": 371
        },
        "outputId": "5d6c92fd-79d0-4ddc-9c66-cce7f7063eff"
      },
      "source": [
        "import matplotlib.pyplot as plt\n",
        "import seaborn as sns\n",
        "\n",
        "cm = confusion_matrix(ytest, preds)\n",
        "sns.heatmap(cm, annot=True, cbar=False)\n",
        "plt.xlabel('Predicted label')\n",
        "plt.ylabel('True label')\n",
        "plt.title('Confusion Matrix')"
      ],
      "execution_count": null,
      "outputs": [
        {
          "output_type": "stream",
          "text": [
            "/usr/local/lib/python3.6/dist-packages/statsmodels/tools/_testing.py:19: FutureWarning: pandas.util.testing is deprecated. Use the functions in the public API at pandas.testing instead.\n",
            "  import pandas.util.testing as tm\n"
          ],
          "name": "stderr"
        },
        {
          "output_type": "execute_result",
          "data": {
            "text/plain": [
              "Text(0.5, 1.0, 'Confusion Matrix')"
            ]
          },
          "metadata": {
            "tags": []
          },
          "execution_count": 18
        },
        {
          "output_type": "display_data",
          "data": {
            "image/png": "[encoded data removed]",
            "text/plain": [
              "<Figure size 432x288 with 1 Axes>"
            ]
          },
          "metadata": {
            "tags": [],
            "needs_background": "light"
          }
        }
      ]
    },
    {
      "cell_type": "code",
      "metadata": {
        "id": "vGCyCI3y1JRM",
        "colab": {
          "base_uri": "https://localhost:8080/",
          "height": 186
        },
        "outputId": "78a77f71-9aea-403d-b281-293116b6934b"
      },
      "source": [
        "from sklearn.metrics import classification_report\n",
        "print(classification_report(ytest, preds))"
      ],
      "execution_count": null,
      "outputs": [
        {
          "output_type": "stream",
          "text": [
            "              precision    recall  f1-score   support\n",
            "\n",
            " Negativepng       0.99      0.99      0.99       100\n",
            " Positivepng       0.99      0.99      0.99        92\n",
            "\n",
            "    accuracy                           0.99       192\n",
            "   macro avg       0.99      0.99      0.99       192\n",
            "weighted avg       0.99      0.99      0.99       192\n",
            "\n"
          ],
          "name": "stdout"
        }
      ]
    },
    {
      "cell_type": "code",
      "metadata": {
        "id": "BehbDZkMYmo1",
        "colab": {
          "base_uri": "https://localhost:8080/",
          "height": 73
        },
        "outputId": "c776676a-9ba2-4362-83d9-bc89fa5876a4"
      },
      "source": [
        "# Parameters for Image Generator\n",
        "params = {'rescale':1./255,  'rotation_range':40, 'zoom_range':0.15, 'width_shift_range':0.2, 'height_shift_range':0.2, 'shear_range':0.05, 'horizontal_flip':True, 'featurewise_std_normalization':True, 'featurewise_center':True, 'fill_mode':'nearest'}\n",
        "# params = {'rescale':1./255, 'validation_split': 0.2}\n",
        "# Image Data Generator configuration\n",
        "image_gen = ImageDataGenerator(**params)\n",
        "    \n",
        "# Train Split\n",
        "train_generator  = image_gen.flow_from_directory(\n",
        "#  dataframe = dataset,\n",
        " directory= '/content/drive/My Drive/LIDC-IDRI-0001/01-01-2000-30178/3000566-03192/Training/',\n",
        "#  x_col=X,\n",
        "#  y_col=y,\n",
        "batch_size=5,\n",
        "target_size=(224, 224),\n",
        "color_mode=\"rgb\",\n",
        "class_mode=\"categorical\",\n",
        "shuffle=True,\n",
        "seed=42)\n",
        "    \n",
        "# Validation Split\n",
        "# dataframe=dataset,\n",
        "valid_generator  = image_gen.flow_from_directory(\n",
        "directory= '/content/drive/My Drive/LIDC-IDRI-0001/01-01-2000-30178/3000566-03192/Validation/',\n",
        "# x_col=X,\n",
        "# y_col=y,\n",
        "batch_size=5,\n",
        "target_size=(224, 224),\n",
        "color_mode=\"rgb\",\n",
        "class_mode=\"categorical\",\n",
        "shuffle=True,\n",
        "seed=42)\n",
        "    \n",
        "# Test Split\n",
        "test_generator  = image_gen.flow_from_directory(\n",
        "directory= '/content/drive/My Drive/LIDC-IDRI-0001/01-01-2000-30178/3000566-03192/Testing/',\n",
        "batch_size=5,\n",
        "target_size=(224, 224),\n",
        "color_mode=\"rgb\",\n",
        "class_mode=\"categorical\",\n",
        "shuffle=True,\n",
        "seed=42)"
      ],
      "execution_count": null,
      "outputs": [
        {
          "output_type": "stream",
          "text": [
            "Found 962 images belonging to 2 classes.\n",
            "Found 206 images belonging to 2 classes.\n",
            "Found 208 images belonging to 2 classes.\n"
          ],
          "name": "stdout"
        }
      ]
    },
    {
      "cell_type": "code",
      "metadata": {
        "id": "sXSyMWusp30N"
      },
      "source": [
        "from sklearn.neural_network import "
      ],
      "execution_count": null,
      "outputs": []
    },
    {
      "cell_type": "code",
      "metadata": {
        "id": "6CMbX3-JasCQ"
      },
      "source": [
        "# CLASSIFYING\n",
        "from sklearn.feature_selection import VarianceThreshold\n",
        "from sklearn.neural_network import MLPClassifier\n",
        "from sklearn.pipeline import Pipeline\n",
        "\n",
        "model = MLPClassifier(hidden_layer_sizes=(100, 10))\n",
        "pipeline = Pipeline([('low_variance_filter', VarianceThreshold()), ('model', model)])\n",
        "pipeline.fit(X, y)\n",
        "\n",
        "print (\"Model Trained on pre-trained features\")"
      ],
      "execution_count": null,
      "outputs": []
    },
    {
      "cell_type": "code",
      "metadata": {
        "id": "0hHayrntss2W",
        "colab": {
          "base_uri": "https://localhost:8080/",
          "height": 213
        },
        "outputId": "50cf0c98-4308-448b-9bc7-8cd41e8bcb1f"
      },
      "source": [
        "X_train, X_test, y_train, y_test = train_test_split(X, y)\n",
        "model.predict_proba(X_test)\n",
        "                                                    "
      ],
      "execution_count": null,
      "outputs": [
        {
          "output_type": "error",
          "ename": "NameError",
          "evalue": "ignored",
          "traceback": [
            "\u001b[0;31m---------------------------------------------------------------------------\u001b[0m",
            "\u001b[0;31mNameError\u001b[0m                                 Traceback (most recent call last)",
            "\u001b[0;32m<ipython-input-8-93d7c057f982>\u001b[0m in \u001b[0;36m<module>\u001b[0;34m()\u001b[0m\n\u001b[0;32m----> 1\u001b[0;31m \u001b[0mX_train\u001b[0m\u001b[0;34m,\u001b[0m \u001b[0mX_test\u001b[0m\u001b[0;34m,\u001b[0m \u001b[0my_train\u001b[0m\u001b[0;34m,\u001b[0m \u001b[0my_test\u001b[0m \u001b[0;34m=\u001b[0m \u001b[0mtrain_test_split\u001b[0m\u001b[0;34m(\u001b[0m\u001b[0mX\u001b[0m\u001b[0;34m,\u001b[0m \u001b[0my\u001b[0m\u001b[0;34m)\u001b[0m\u001b[0;34m\u001b[0m\u001b[0;34m\u001b[0m\u001b[0m\n\u001b[0m\u001b[1;32m      2\u001b[0m \u001b[0mmodel\u001b[0m\u001b[0;34m.\u001b[0m\u001b[0mpredict_proba\u001b[0m\u001b[0;34m(\u001b[0m\u001b[0mX_test\u001b[0m\u001b[0;34m)\u001b[0m\u001b[0;34m\u001b[0m\u001b[0;34m\u001b[0m\u001b[0m\n\u001b[1;32m      3\u001b[0m \u001b[0;34m\u001b[0m\u001b[0m\n",
            "\u001b[0;31mNameError\u001b[0m: name 'X' is not defined"
          ]
        }
      ]
    },
    {
      "cell_type": "code",
      "metadata": {
        "id": "vpwdRDJRrI6F"
      },
      "source": [
        "from sklearn.datasets import make_classification\n",
        "from sklearn.model_selection import train_test_split\n",
        "# X, y = make_classification(n_samples=100, random_state=1)\n",
        "X_train, X_test, y_train, y_test = train_test_split(X, y, stratify=y,\n",
        "                                                    random_state=1)\n",
        "clf = MLPClassifier(random_state=1, max_iter=300).fit(X_train, y_train)\n",
        "clf.predict_proba(X_test[:1])\n",
        "# ([[0.038..., 0.961...]])\n",
        "clf.predict(X_test[:5, :])\n",
        "# array([1, 0, 1, 0, 1])\n",
        "clf.score(X_test, y_test)\n",
        "# 0.8..."
      ],
      "execution_count": null,
      "outputs": []
    },
    {
      "cell_type": "code",
      "metadata": {
        "id": "Y1TT0SyIZ9NV"
      },
      "source": [
        "\n",
        "# model.compile(loss=keras.losses.categorical_crossentropy, optimizer='Adam', metrics=['accuracy']) "
      ],
      "execution_count": null,
      "outputs": []
    },
    {
      "cell_type": "code",
      "metadata": {
        "id": "YTnDVj6kaE3v"
      },
      "source": [
        "STEP_SIZE_TRAIN=train_generator.n//train_generator.batch_size\n",
        "STEP_SIZE_VALID=valid_generator.n//valid_generator.batch_size\n",
        "history = model.fit_generator(generator=train_generator,\n",
        "                    steps_per_epoch=STEP_SIZE_TRAIN,\n",
        "                    validation_data=valid_generator,\n",
        "                    validation_steps=STEP_SIZE_VALID,\n",
        "                    epochs=50)"
      ],
      "execution_count": null,
      "outputs": []
    },
    {
      "cell_type": "code",
      "metadata": {
        "id": "jv-GR3b9a0Py"
      },
      "source": [
        "preds = pipeline.predict(features['test'])\n",
        "\n",
        "f, ax = plt.subplots(1, 2)\n",
        "for i in range(2):\n",
        "  ax[i].imshow(Image.open(test_imgs[i]).resize((200, 200), Image.ANTIALIAS))\n",
        "  ax[i].text(10, 180, 'Predicted: %s' % preds[i], color='k', backgroundcolor='red', alpha=0.8)\n",
        "plt.show()"
      ],
      "execution_count": null,
      "outputs": []
    },
    {
      "cell_type": "code",
      "metadata": {
        "id": "B5zzNo5KTEjD"
      },
      "source": [
        "print(pipeline.score(X_train))"
      ],
      "execution_count": null,
      "outputs": []
    },
    {
      "cell_type": "code",
      "metadata": {
        "id": "_dJBv4xH-w_r"
      },
      "source": [
        "# for i in test_features:\n",
        "  # print(len(i))"
      ],
      "execution_count": null,
      "outputs": []
    },
    {
      "cell_type": "code",
      "metadata": {
        "id": "_0N-o2yP9fHT",
        "colab": {
          "base_uri": "https://localhost:8080/",
          "height": 74
        },
        "outputId": "bf420c2f-6d40-437b-d3d8-c463b999d624"
      },
      "source": [
        "import os\n",
        "\n",
        "import sklearn\n",
        "from sklearn.model_selection import cross_validate, GridSearchCV\n",
        "# from sklearn import  grid_search\n",
        "from sklearn.metrics import confusion_matrix, classification_report\n",
        "from sklearn.svm import SVC\n",
        "from sklearn.externals import joblib\n",
        "from sklearn.model_selection import train_test_split\n",
        "from sklearn import svm\n"
      ],
      "execution_count": null,
      "outputs": [
        {
          "output_type": "stream",
          "text": [
            "/usr/local/lib/python3.6/dist-packages/sklearn/externals/joblib/__init__.py:15: FutureWarning: sklearn.externals.joblib is deprecated in 0.21 and will be removed in 0.23. Please import this functionality directly from joblib, which can be installed with: pip install joblib. If this warning is raised when loading pickled models, you may need to re-serialize those models with scikit-learn 0.21+.\n",
            "  warnings.warn(msg, category=FutureWarning)\n"
          ],
          "name": "stderr"
        }
      ]
    },
    {
      "cell_type": "code",
      "metadata": {
        "id": "s3rZO6Knu_f4",
        "colab": {
          "base_uri": "https://localhost:8080/",
          "height": 213
        },
        "outputId": "26a3a4a7-139f-4fb3-aba0-42366bfed088"
      },
      "source": [
        "clf = svm.SVC()\n",
        "clf.fit(X,y)\n",
        "print(SVC())"
      ],
      "execution_count": null,
      "outputs": [
        {
          "output_type": "error",
          "ename": "NameError",
          "evalue": "ignored",
          "traceback": [
            "\u001b[0;31m---------------------------------------------------------------------------\u001b[0m",
            "\u001b[0;31mNameError\u001b[0m                                 Traceback (most recent call last)",
            "\u001b[0;32m<ipython-input-7-4e2f517406b7>\u001b[0m in \u001b[0;36m<module>\u001b[0;34m()\u001b[0m\n\u001b[1;32m      1\u001b[0m \u001b[0mclf\u001b[0m \u001b[0;34m=\u001b[0m \u001b[0msvm\u001b[0m\u001b[0;34m.\u001b[0m\u001b[0mSVC\u001b[0m\u001b[0;34m(\u001b[0m\u001b[0;34m)\u001b[0m\u001b[0;34m\u001b[0m\u001b[0;34m\u001b[0m\u001b[0m\n\u001b[0;32m----> 2\u001b[0;31m \u001b[0mclf\u001b[0m\u001b[0;34m.\u001b[0m\u001b[0mfit\u001b[0m\u001b[0;34m(\u001b[0m\u001b[0mX\u001b[0m\u001b[0;34m,\u001b[0m\u001b[0my\u001b[0m\u001b[0;34m)\u001b[0m\u001b[0;34m\u001b[0m\u001b[0;34m\u001b[0m\u001b[0m\n\u001b[0m\u001b[1;32m      3\u001b[0m \u001b[0mprint\u001b[0m\u001b[0;34m(\u001b[0m\u001b[0mSVC\u001b[0m\u001b[0;34m(\u001b[0m\u001b[0;34m)\u001b[0m\u001b[0;34m)\u001b[0m\u001b[0;34m\u001b[0m\u001b[0;34m\u001b[0m\u001b[0m\n",
            "\u001b[0;31mNameError\u001b[0m: name 'X' is not defined"
          ]
        }
      ]
    },
    {
      "cell_type": "code",
      "metadata": {
        "id": "o9UUjza797yO"
      },
      "source": [
        "def train_svm_classifer(features, labels, model_output_path):\n",
        "    \"\"\"\n",
        "    train_svm_classifer will train a SVM, saved the trained and SVM model and\n",
        "    report the classification performance\n",
        "    features: array of input features\n",
        "    labels: array of labels associated with the input features\n",
        "    model_output_path: path for storing the trained svm model\n",
        "    \"\"\"\n",
        "    # save 20% of data for performance evaluation\n",
        "    X_train, X_test, y_train, y_test = train_test_split(features, labels, test_size=0.2)\n",
        "    # cross_validate.train_test_split\n",
        "    param = [\n",
        "        {\n",
        "            \"kernel\": [\"linear\"],\n",
        "            \"C\": [1, 10, 100, 1000]\n",
        "        },\n",
        "        {\n",
        "            \"kernel\": [\"rbf\"],\n",
        "            \"C\": [1, 10, 100, 1000],\n",
        "            \"gamma\": [1e-2, 1e-3, 1e-4, 1e-5]\n",
        "        }\n",
        "    ]\n",
        "\n",
        "    # request probability estimation\n",
        "    svm = SVC(probability=True)\n",
        "\n",
        "    # 10-fold cross validation, use 4 thread as each fold and each parameter set can be train in parallel\n",
        "    clf = GridSearchCV(svm, param,\n",
        "            cv=10, n_jobs=4, verbose=3)\n",
        "\n",
        "    clf.fit(X_train, y_train)\n",
        "\n",
        "    \n",
        "\n",
        "    print(\"\\nBest parameters set:\")\n",
        "    print(clf.best_params_)\n",
        "\n",
        "    y_predict=clf.predict(X_test)\n",
        "\n",
        "    labels=sorted(list(set(labels)))\n",
        "    print(\"\\nConfusion matrix:\")\n",
        "    print(\"Labels: {0}\\n\".format(\",\".join(labels)))\n",
        "    print(confusion_matrix(y_test, y_predict, labels=labels))\n",
        "\n",
        "    print(\"\\nClassification report:\")\n",
        "    print(classification_report(x_test, x_predict))\n",
        "\n",
        "    if os.path.exists(model_output_path):\n",
        "        joblib.dump(clf.best_estimator_, model_output_path)\n",
        "    else:\n",
        "        print(\"Cannot save trained svm model to {0}.\".format(model_output_path))"
      ],
      "execution_count": null,
      "outputs": []
    },
    {
      "cell_type": "code",
      "metadata": {
        "id": "SanepWb1ASfH"
      },
      "source": [
        "out_path = basepath + 'svm/'\n",
        "# if os.path.exists(basepath+'svm'):\n",
        "  # print(\"Done\")\n",
        "train_svm_classifer(X,y,out_path)"
      ],
      "execution_count": null,
      "outputs": []
    }
  ]
}